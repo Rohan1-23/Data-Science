{
 "cells": [
  {
   "cell_type": "code",
   "execution_count": 18,
   "metadata": {},
   "outputs": [],
   "source": [
    "# Kindly read instructions carefully. If any unexpected errors or doubts you can contact."
   ]
  },
  {
   "cell_type": "code",
   "execution_count": 19,
   "metadata": {},
   "outputs": [],
   "source": [
    "import requests\n",
    "import re\n",
    "from bs4 import BeautifulSoup\n",
    "import pandas as pd\n",
    "import numpy as np\n",
    "from selenium import webdriver\n",
    "import time\n",
    "import random\n",
    "import os\n",
    "import shutil\n",
    "from selenium import webdriver\n",
    "from selenium.webdriver.common.keys import Keys\n",
    "from time import sleep\n",
    "from selenium.webdriver.common.action_chains import ActionChains\n",
    "from selenium.webdriver import Proxy\n",
    "from selenium.webdriver.chrome.webdriver import WebDriver as ChromeDriver\n",
    "from fake_useragent import UserAgent\n",
    "from selenium.webdriver.support.wait import WebDriverWait\n",
    "# If you see error here, install required package as described in Instructions file"
   ]
  },
  {
   "cell_type": "code",
   "execution_count": 20,
   "metadata": {},
   "outputs": [
    {
     "name": "stdout",
     "output_type": "stream",
     "text": [
      "C:\\driver\\Robin Google Trend II\n"
     ]
    }
   ],
   "source": [
    "cd C:\\driver\\Robin Google Trend II"
   ]
  },
  {
   "cell_type": "code",
   "execution_count": 21,
   "metadata": {},
   "outputs": [
    {
     "data": {
      "text/html": [
       "<div>\n",
       "<style scoped>\n",
       "    .dataframe tbody tr th:only-of-type {\n",
       "        vertical-align: middle;\n",
       "    }\n",
       "\n",
       "    .dataframe tbody tr th {\n",
       "        vertical-align: top;\n",
       "    }\n",
       "\n",
       "    .dataframe thead th {\n",
       "        text-align: right;\n",
       "    }\n",
       "</style>\n",
       "<table border=\"1\" class=\"dataframe\">\n",
       "  <thead>\n",
       "    <tr style=\"text-align: right;\">\n",
       "      <th></th>\n",
       "      <th>0</th>\n",
       "    </tr>\n",
       "  </thead>\n",
       "  <tbody>\n",
       "    <tr>\n",
       "      <th>0</th>\n",
       "      <td>https://trends.google.nl/trends/explore?cat=10...</td>\n",
       "    </tr>\n",
       "    <tr>\n",
       "      <th>1</th>\n",
       "      <td>https://trends.google.nl/trends/explore?cat=10...</td>\n",
       "    </tr>\n",
       "    <tr>\n",
       "      <th>2</th>\n",
       "      <td>https://trends.google.nl/trends/explore?cat=10...</td>\n",
       "    </tr>\n",
       "    <tr>\n",
       "      <th>3</th>\n",
       "      <td>https://trends.google.nl/trends/explore?cat=10...</td>\n",
       "    </tr>\n",
       "    <tr>\n",
       "      <th>4</th>\n",
       "      <td>https://trends.google.nl/trends/explore?cat=10...</td>\n",
       "    </tr>\n",
       "  </tbody>\n",
       "</table>\n",
       "</div>"
      ],
      "text/plain": [
       "                                                   0\n",
       "0  https://trends.google.nl/trends/explore?cat=10...\n",
       "1  https://trends.google.nl/trends/explore?cat=10...\n",
       "2  https://trends.google.nl/trends/explore?cat=10...\n",
       "3  https://trends.google.nl/trends/explore?cat=10...\n",
       "4  https://trends.google.nl/trends/explore?cat=10..."
      ]
     },
     "execution_count": 21,
     "metadata": {},
     "output_type": "execute_result"
    }
   ],
   "source": [
    "# If you see error here, check path and name of file and folder\n",
    "# The folder setup is also desccribed in Instructions file\n",
    "df=pd.read_excel('./reference/url_machine_6.xlsx',header=None)\n",
    "df.head()"
   ]
  },
  {
   "cell_type": "code",
   "execution_count": 22,
   "metadata": {},
   "outputs": [],
   "source": [
    "links=df[0].tolist()"
   ]
  },
  {
   "cell_type": "code",
   "execution_count": 23,
   "metadata": {},
   "outputs": [],
   "source": [
    "# No change required here\n",
    "# No Proxy\n",
    "def newChromeBrowserDefault(headless=True, downloadPath=None):\n",
    "    \"\"\" Helper function that creates a new Selenium browser \"\"\"\n",
    "    options = webdriver.ChromeOptions()\n",
    "    options.add_argument(\"user-agent=\"+UserAgent().random)\n",
    "    if headless:\n",
    "        options.add_argument('headless')\n",
    "    if downloadPath is not None:\n",
    "        prefs = {}\n",
    "        if not os.path.exists(downloadPath):\n",
    "            os.makedirs(downloadPath)\n",
    "        prefs[\"profile.default_content_settings.popups\"]=0\n",
    "        prefs[\"download.default_directory\"]=downloadPath\n",
    "        options.add_experimental_option(\"prefs\", prefs)\n",
    "\n",
    "    browser = webdriver.Chrome(chrome_options=options, executable_path='C:\\driver\\chromedriver.exe')\n",
    "    return browser"
   ]
  },
  {
   "cell_type": "code",
   "execution_count": 24,
   "metadata": {},
   "outputs": [],
   "source": [
    "#### CHANGE HERE\n",
    "\n",
    "# When using Code 2 in the cell below, you will need to provide a proxy\n",
    "# 1) Visit https://www.sslproxies.org for new proxies\n",
    "\n",
    "# 2) Replace proxy here in the given field and run this cell, before running Code 2\n",
    "\n",
    "# With Proxy\n",
    "def newChromeBrowserProxy(headless=True, downloadPath=None,proxy='186.216.81.21:31773'):\n",
    "    \"\"\" Helper function that creates a new Selenium browser \"\"\"\n",
    "    options = webdriver.ChromeOptions()\n",
    "    options.add_argument(\"user-agent=\"+UserAgent().random)\n",
    "    if headless:\n",
    "        options.add_argument('headless')\n",
    "    if downloadPath is not None:\n",
    "        prefs = {}\n",
    "        if not os.path.isdir(downloadPath):\n",
    "            os.makedirs(downloadPath)\n",
    "        prefs[\"profile.default_content_settings.popups\"]=0\n",
    "        prefs[\"download.default_directory\"]=downloadPath\n",
    "        options.add_experimental_option(\"prefs\", prefs)\n",
    "\n",
    "    settings = {\n",
    "    \"httpProxy\": proxy,\n",
    "    \"sslProxy\": proxy\n",
    "    }\n",
    "    proxy = Proxy(settings)\n",
    "    from selenium.webdriver.common.desired_capabilities import DesiredCapabilities\n",
    "    cap = DesiredCapabilities.CHROME.copy()\n",
    "    cap['platform'] = \"WINDOWS\"\n",
    "    cap['version'] = \"7\"\n",
    "    proxy.add_to_capabilities(cap)\n",
    "\n",
    "    browser = ChromeDriver(\"C:\\driver\\chromedriver.exe\",desired_capabilities=cap,chrome_options=options)\n",
    "    return browser"
   ]
  },
  {
   "cell_type": "code",
   "execution_count": 25,
   "metadata": {},
   "outputs": [
    {
     "data": {
      "text/plain": [
       "False"
      ]
     },
     "execution_count": 25,
     "metadata": {},
     "output_type": "execute_result"
    }
   ],
   "source": [
    "len(links)==100000"
   ]
  },
  {
   "cell_type": "code",
   "execution_count": 26,
   "metadata": {},
   "outputs": [],
   "source": [
    "#### CHANGE HERE\n",
    "# Set download path here to 'all_data' folder as described in Instructions file\n",
    "# Use '\\\\' to seperate path\n",
    "downloadPath=\"C:\\\\driver\\\\Robin Google Trend II\\\\all_data\""
   ]
  },
  {
   "cell_type": "code",
   "execution_count": 27,
   "metadata": {},
   "outputs": [
    {
     "name": "stderr",
     "output_type": "stream",
     "text": [
      "C:\\Users\\Rohan\\Anaconda3\\lib\\site-packages\\ipykernel_launcher.py:17: DeprecationWarning: use options instead of chrome_options\n"
     ]
    }
   ],
   "source": [
    "#### CHANGE HERE AS DESCRIBED BELOW\n",
    "\n",
    "# If you close the bot chrome window, you will need to run this cell again to launch new chrome window\n",
    "\n",
    "# Only call one of the functions at a time below\n",
    "\n",
    "# There is a 24 hour restriction on every IP/internet connection/4G network you are using after about 700 downloads\n",
    "# When you reach that limit code will crash\n",
    "# When you run for the first time every 24 hours run 'newChromeBrowserDefault' function and comment the other function call\n",
    "# In other words, run Code 1 and comment Code 2\n",
    "\n",
    "# Code 1\n",
    "driver = newChromeBrowserDefault(headless=False,downloadPath=downloadPath)\n",
    "\n",
    "\n",
    "# Whenever limit is reached for your internet connection either change the network or to continue using the same network for further \n",
    "# downloads use the below second method with proxy\n",
    "# To run second method uncomment call to 'newChromeBrowserProxy' and comment call to 'newChromeBrowserDefault'\n",
    "# In other words, run Code 2 and comment Code 1\n",
    "\n",
    "# Note: Before running Code 2, replace proxy in function definition in above cell\n",
    "\n",
    "# Code 2\n",
    "# driver = newChromeBrowserProxy(headless=False,downloadPath=downloadPath)"
   ]
  },
  {
   "cell_type": "code",
   "execution_count": 28,
   "metadata": {},
   "outputs": [],
   "source": [
    "#### KEY POINTS TO KNOW\n",
    "# 1) Most of the proxies that you will try using Code 2 would be banned by google, so the code below will crash for those particular \n",
    "#    proxies. You will have to replace and try a few proxies before you get one that is usable.\n",
    "# 2) A new google chrome window will open that will be operated by our automated bot.\n",
    "#    REMEMBER: Do not minimize that chrome window which is being operated by bot or else it will crash\n",
    "# 3) When a trying proxy and after you see a crash in the code below. To verify that proxy actually is not loading any data, try \n",
    "#    refreshing the window few times to see if it responds. If it works, try running code again, otherwise change proxy.\n",
    "# 4) When there is no error and the code is still running, do not interfere with bot chrome window or any files in the all_data folder\n",
    "# \n",
    "# 5) In general, as very few percentage of proxies work, if you have an alternate internet connection we recommend that you use it\n",
    "#    until it's limit is reached as compared to using a proxy. Once you have used up your daily limit of ~700 downloads for each \n",
    "#    network then use the the proxy method"
   ]
  },
  {
   "cell_type": "code",
   "execution_count": 29,
   "metadata": {},
   "outputs": [],
   "source": [
    "# No change required here\n",
    "def get_time(downloadPath):\n",
    "    return max([os.path.getmtime(os.path.join(downloadPath, f)) for f in os.listdir(downloadPath) if os.path.isfile(os.path.join(downloadPath, f))], default=0)\n",
    "\n",
    "def download_done_chk1(downloadPath):\n",
    "    for f in os.listdir(downloadPath):\n",
    "        if (\".tmp\" in f) or (\".crdownload\" in f) or (\".part\" in f):\n",
    "            time.sleep(0.5)\n",
    "            print(\"in recursion 1\")\n",
    "            download_done_chk1(downloadPath)\n",
    "    \n",
    "def download_done_chk2(previous_mtime):\n",
    "    new_mtime=get_time(downloadPath)\n",
    "    if new_mtime==previous_mtime:\n",
    "        time.sleep(0.5)\n",
    "        print(\"in recursion 2\")\n",
    "        download_done_chk2(previous_mtime)\n",
    "    elif new_mtime<previous_mtime:\n",
    "        print(\"unexpected error\")"
   ]
  },
  {
   "cell_type": "code",
   "execution_count": 30,
   "metadata": {},
   "outputs": [],
   "source": [
    "# Machine 6\n",
    "# Following are index values\n",
    "# Batch range that you have to run: 400000-499999"
   ]
  },
  {
   "cell_type": "code",
   "execution_count": 31,
   "metadata": {},
   "outputs": [
    {
     "ename": "TypeError",
     "evalue": "max() got an unexpected keyword argument",
     "output_type": "error",
     "traceback": [
      "\u001b[1;31m---------------------------------------------------------------------------\u001b[0m",
      "\u001b[1;31mTypeError\u001b[0m                                 Traceback (most recent call last)",
      "\u001b[1;32m<ipython-input-31-b73728345180>\u001b[0m in \u001b[0;36m<module>\u001b[1;34m()\u001b[0m\n\u001b[0;32m     16\u001b[0m \u001b[1;33m\u001b[0m\u001b[0m\n\u001b[0;32m     17\u001b[0m \u001b[0moffset\u001b[0m\u001b[1;33m=\u001b[0m\u001b[1;36m400000\u001b[0m\u001b[1;33m\u001b[0m\u001b[0m\n\u001b[1;32m---> 18\u001b[1;33m \u001b[0mprevious_mtime\u001b[0m\u001b[1;33m=\u001b[0m\u001b[0mget_time\u001b[0m\u001b[1;33m(\u001b[0m\u001b[0mdownloadPath\u001b[0m\u001b[1;33m)\u001b[0m\u001b[1;33m\u001b[0m\u001b[0m\n\u001b[0m\u001b[0;32m     19\u001b[0m \u001b[1;33m\u001b[0m\u001b[0m\n\u001b[0;32m     20\u001b[0m \u001b[1;32mfor\u001b[0m \u001b[0midx\u001b[0m\u001b[1;33m,\u001b[0m\u001b[0mlink\u001b[0m \u001b[1;32min\u001b[0m \u001b[0menumerate\u001b[0m\u001b[1;33m(\u001b[0m\u001b[0mlinks\u001b[0m\u001b[1;33m[\u001b[0m\u001b[0moffset\u001b[0m\u001b[1;33m-\u001b[0m\u001b[1;36m400000\u001b[0m\u001b[1;33m:\u001b[0m\u001b[1;36m100\u001b[0m\u001b[1;33m]\u001b[0m\u001b[1;33m)\u001b[0m\u001b[1;33m:\u001b[0m\u001b[1;33m\u001b[0m\u001b[0m\n",
      "\u001b[1;32m<ipython-input-29-1226efdd8c28>\u001b[0m in \u001b[0;36mget_time\u001b[1;34m(downloadPath)\u001b[0m\n\u001b[0;32m      1\u001b[0m \u001b[1;31m# No change required here\u001b[0m\u001b[1;33m\u001b[0m\u001b[1;33m\u001b[0m\u001b[0m\n\u001b[0;32m      2\u001b[0m \u001b[1;32mdef\u001b[0m \u001b[0mget_time\u001b[0m\u001b[1;33m(\u001b[0m\u001b[0mdownloadPath\u001b[0m\u001b[1;33m)\u001b[0m\u001b[1;33m:\u001b[0m\u001b[1;33m\u001b[0m\u001b[0m\n\u001b[1;32m----> 3\u001b[1;33m     \u001b[1;32mreturn\u001b[0m \u001b[0mmax\u001b[0m\u001b[1;33m(\u001b[0m\u001b[1;33m[\u001b[0m\u001b[0mos\u001b[0m\u001b[1;33m.\u001b[0m\u001b[0mpath\u001b[0m\u001b[1;33m.\u001b[0m\u001b[0mgetmtime\u001b[0m\u001b[1;33m(\u001b[0m\u001b[0mos\u001b[0m\u001b[1;33m.\u001b[0m\u001b[0mpath\u001b[0m\u001b[1;33m.\u001b[0m\u001b[0mjoin\u001b[0m\u001b[1;33m(\u001b[0m\u001b[0mdownloadPath\u001b[0m\u001b[1;33m,\u001b[0m \u001b[0mf\u001b[0m\u001b[1;33m)\u001b[0m\u001b[1;33m)\u001b[0m \u001b[1;32mfor\u001b[0m \u001b[0mf\u001b[0m \u001b[1;32min\u001b[0m \u001b[0mos\u001b[0m\u001b[1;33m.\u001b[0m\u001b[0mlistdir\u001b[0m\u001b[1;33m(\u001b[0m\u001b[0mdownloadPath\u001b[0m\u001b[1;33m)\u001b[0m \u001b[1;32mif\u001b[0m \u001b[0mos\u001b[0m\u001b[1;33m.\u001b[0m\u001b[0mpath\u001b[0m\u001b[1;33m.\u001b[0m\u001b[0misfile\u001b[0m\u001b[1;33m(\u001b[0m\u001b[0mos\u001b[0m\u001b[1;33m.\u001b[0m\u001b[0mpath\u001b[0m\u001b[1;33m.\u001b[0m\u001b[0mjoin\u001b[0m\u001b[1;33m(\u001b[0m\u001b[0mdownloadPath\u001b[0m\u001b[1;33m,\u001b[0m \u001b[0mf\u001b[0m\u001b[1;33m)\u001b[0m\u001b[1;33m)\u001b[0m\u001b[1;33m]\u001b[0m\u001b[1;33m,\u001b[0m \u001b[0mdefault\u001b[0m\u001b[1;33m=\u001b[0m\u001b[1;36m0\u001b[0m\u001b[1;33m)\u001b[0m\u001b[1;33m\u001b[0m\u001b[0m\n\u001b[0m\u001b[0;32m      4\u001b[0m \u001b[1;33m\u001b[0m\u001b[0m\n\u001b[0;32m      5\u001b[0m \u001b[1;32mdef\u001b[0m \u001b[0mdownload_done_chk1\u001b[0m\u001b[1;33m(\u001b[0m\u001b[0mdownloadPath\u001b[0m\u001b[1;33m)\u001b[0m\u001b[1;33m:\u001b[0m\u001b[1;33m\u001b[0m\u001b[0m\n",
      "\u001b[1;31mTypeError\u001b[0m: max() got an unexpected keyword argument"
     ]
    }
   ],
   "source": [
    "# CHANGE HERE\n",
    "# When running for the very first time no change is required\n",
    "# When one or more files have been downloaded in the all_data folder and the code crashes, \n",
    "# then YOU NEED TO MAKE CHANGE TO OFFSET BEFORE EXECUTING THIS CELL AGAIN\n",
    "\n",
    "# How to make change:\n",
    "# Look at the last file number that has been downloaded and change offset as described below.\n",
    "# For example, let's say the name of latest file downloaded is data_400010.csv\n",
    "# In that case, the offset for the next run would be 400011\n",
    "\n",
    "# In other words, offset for next run would be last file number + 1\n",
    "\n",
    "# Only offset value has to be changed. No other changes should be made.\n",
    "\n",
    "# Give a little extra caution while modifying offset as it would be difficult for us to handle any errors later in the process\n",
    "\n",
    "offset=400000\n",
    "previous_mtime=get_time(downloadPath)\n",
    "\n",
    "for idx,link in enumerate(links[offset-400000:100]):\n",
    "    driver.get(link.replace('.nl','.com'))\n",
    "    try:\n",
    "        element = WebDriverWait(driver, 10).until(lambda x: x.find_element_by_xpath('/html/body/div[2]/div[2]/div/md-content/div/div/div[1]/trends-widget/ng-include/widget/div/div/div/widget-actions/div/button[1]'))\n",
    "    except:\n",
    "        driver.refresh()\n",
    "        try:\n",
    "            element = WebDriverWait(driver, 10).until(lambda x: x.find_element_by_xpath('/html/body/div[2]/div[2]/div/md-content/div/div/div[1]/trends-widget/ng-include/widget/div/div/div/widget-actions/div/button[1]'))\n",
    "        except:\n",
    "            print(\"Exception occured: Verify if the daily limit is reached on current network.\")\n",
    "            \n",
    "    print(\"Ready to download\")\n",
    "    element.click()\n",
    "    download_done_chk1(downloadPath)\n",
    "    download_done_chk2(previous_mtime)\n",
    "    filename = max([os.path.join(downloadPath, f) for f in os.listdir(downloadPath) if os.path.isfile(os.path.join(downloadPath, f))], key=os.path.getmtime)\n",
    "    shutil.move(filename,downloadPath+'\\\\'+\"data\"+\"_\"+str((offset+idx))+'.csv')\n",
    "    previous_mtime=get_time(downloadPath)\n",
    "    print(idx)\n",
    "    print(link)\n",
    "    print(\"Success\")"
   ]
  },
  {
   "cell_type": "code",
   "execution_count": null,
   "metadata": {},
   "outputs": [],
   "source": []
  }
 ],
 "metadata": {
  "kernelspec": {
   "display_name": "Python 2",
   "language": "python",
   "name": "python2"
  },
  "language_info": {
   "codemirror_mode": {
    "name": "ipython",
    "version": 2
   },
   "file_extension": ".py",
   "mimetype": "text/x-python",
   "name": "python",
   "nbconvert_exporter": "python",
   "pygments_lexer": "ipython2",
   "version": "2.7.16"
  }
 },
 "nbformat": 4,
 "nbformat_minor": 2
}
