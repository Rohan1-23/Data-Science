{
 "cells": [
  {
   "cell_type": "code",
   "execution_count": 3,
   "metadata": {},
   "outputs": [
    {
     "name": "stdout",
     "output_type": "stream",
     "text": [
      "  Unnamed: 0        P1        P2        P3        P4        P5        P6  \\\n",
      "0         VL  0.453428  0.042700  0.003830  0.000021  0.003830  0.042700   \n",
      "1          L  0.346087  0.112478  0.035700  0.011500  0.035700  0.112478   \n",
      "2         ML  0.217243  0.148261  0.100366  0.068300  0.100366  0.148261   \n",
      "3          M  0.107931  0.131760  0.161532  0.197554  0.161532  0.131760   \n",
      "4         MH  0.036000  0.080100  0.181103  0.405545  0.181103  0.080100   \n",
      "5          H  0.005160  0.025800  0.132877  0.672417  0.132877  0.025800   \n",
      "6         VH  0.000113  0.002190  0.045300  0.904781  0.045300  0.002190   \n",
      "\n",
      "         P7  \n",
      "0  0.453428  \n",
      "1  0.346087  \n",
      "2  0.217243  \n",
      "3  0.107931  \n",
      "4  0.036000  \n",
      "5  0.005160  \n",
      "6  0.000113  \n"
     ]
    }
   ],
   "source": [
    "import pandas as pd\n",
    "print(pd.read_csv(\"Book3.csv\"))"
   ]
  },
  {
   "cell_type": "code",
   "execution_count": null,
   "metadata": {},
   "outputs": [],
   "source": []
  }
 ],
 "metadata": {
  "kernelspec": {
   "display_name": "Python 2",
   "language": "python",
   "name": "python2"
  },
  "language_info": {
   "codemirror_mode": {
    "name": "ipython",
    "version": 2
   },
   "file_extension": ".py",
   "mimetype": "text/x-python",
   "name": "python",
   "nbconvert_exporter": "python",
   "pygments_lexer": "ipython2",
   "version": "2.7.16"
  }
 },
 "nbformat": 4,
 "nbformat_minor": 2
}
