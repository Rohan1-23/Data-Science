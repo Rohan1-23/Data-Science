{
 "cells": [
  {
   "cell_type": "markdown",
   "metadata": {
    "_cell_guid": "b1076dfc-b9ad-4769-8c92-a6c4dae69d19",
    "_uuid": "8f2839f25d086af736a60e9eeb907d3b93b6e0e5"
   },
   "source": [
    "----------\n",
    "**Titanic - Data Analysis + LGBM : 0.82296**\n",
    "=====================================\n",
    "\n",
    "* **Accuracy - Valid  : 0.8547**\n",
    "* **Accuracy - CV    : 0.8496 (+/- 0.017)**\n",
    "* **Accuracy - Public    : 0.82296**\n",
    "\n",
    "***Vincent Lugat***\n",
    "\n",
    "*January 2019*\n",
    "\n",
    "----------"
   ]
  },
  {
   "cell_type": "markdown",
   "metadata": {
    "_uuid": "902d3360735dffb7b9fe6d6daf7da730d25f4226"
   },
   "source": [
    "![](http://image.noelshack.com/fichiers/2019/05/1/1548689192-0-0-0-0lgbm.jpg)"
   ]
  },
  {
   "cell_type": "markdown",
   "metadata": {
    "_uuid": "9d0a41d7edc8c0f34ad01ad0e21b31214fcef180"
   },
   "source": [
    "![](http://image.noelshack.com/fichiers/2019/05/1/1548689481-0-0-0.jpg)"
   ]
  },
  {
   "cell_type": "markdown",
   "metadata": {
    "_uuid": "476f8cf4e4ce12c01db527b4f0bcc5e03ea8ac4f"
   },
   "source": [
    "- <a href='#1'>1. Load libraries and read the data</a>  \n",
    "    - <a href='#1.1'>1.1. Load libraries</a> \n",
    "    - <a href='#1.2'>1.2. Read the data</a> \n",
    "- <a href='#2'>2. Overview</a> \n",
    "    - <a href='#2.1'>2.1. Head</a> \n",
    "    - <a href='#2.2'>2.2. Missing values</a> \n",
    "    - <a href='#2.3'>2.3. Target</a> \n",
    "- <a href='#3'>3. Exploratory analysis and data processing</a>\n",
    "    - <a href='#3.1'>3.1. Define plots</a> \n",
    "    - <a href='#3.2'>3.2. Sex</a> \n",
    "    - <a href='#3.3'>3.3. New feature : Title (From Name)</a>\n",
    "    - <a href='#3.4'>3.4. Age</a>\n",
    "    - <a href='#3.5'>3.5. New features : Family Size and FsizeD (From SibSp and Parch)</a>\n",
    "\t- <a href='#3.6'>3.6. Processing Fare (Replace missing value by Pclass = 3 's median)</a> \n",
    "    - <a href='#3.7'>3.7. New feature : Child (From Age)</a> \n",
    "    - <a href='#3.8'>3.8. New feature : Family_Survival</a>\n",
    "- <a href='#4'>4. Prepare dataset</a>\n",
    "\t- <a href='#4.1'>4.1. Drop some features</a> \n",
    "\t- <a href='#4.2'>4.2. Standard scaler & dummies transformation</a>\n",
    "    - <a href='#4.3'>4.3. Correlation plot</a> \n",
    "\t- <a href='#4.4'>4.4. Define (X, y)</a>\n",
    "    - <a href='#4.5'>4.5. Train test split </a> \n",
    "- <a href='#5'>5. Light GBM Model</a> \n",
    "    - <a href='#5.1'>5.1. Light GBM - RandomizedSearchCV to optimise hyperparameters</a> \n",
    "    - <a href='#5.2'>5.2. Light GBM - Model performance report</a>\n",
    "    - <a href='#5.3'>5.3. Light GBM - 0.8547</a>\n",
    "    - <a href='#5.4'>5.4. Light GBM - Cross Validation - 5 folds - 0.8496 (+/- 0.017)</a>\n",
    "\t- <a href='#5.4'>5.5. Discrimination Threshold</a>\n",
    "- <a href='#6'>6. Submission - 0.82296</a> "
   ]
  },
  {
   "cell_type": "markdown",
   "metadata": {
    "_uuid": "c1a6d514f02db137f4e22e83cf15aada62f4fa76"
   },
   "source": [
    "![](http://image.noelshack.com/fichiers/2019/05/1/1548690862-0.jpg)"
   ]
  },
  {
   "cell_type": "markdown",
   "metadata": {
    "_uuid": "a658d80b0722dbdb34e26ea71387800ffcbd5a0c"
   },
   "source": [
    "**Competition description :** The sinking of the RMS Titanic is one of the most infamous shipwrecks in history.  On April 15, 1912, during her maiden voyage, the Titanic sank after colliding with an iceberg, killing 1502 out of 2224 passengers and crew. This sensational tragedy shocked the international community and led to better safety regulations for ships.\n",
    "\n",
    "One of the reasons that the shipwreck led to such loss of life was that there were not enough lifeboats for the passengers and crew. Although there was some element of luck involved in surviving the sinking, some groups of people were more likely to survive than others, such as women, children, and the upper-class.\n",
    "\n",
    "In this challenge, we ask you to complete the analysis of what sorts of people were likely to survive. In particular, we ask you to apply the tools of machine learning to predict which passengers survived the tragedy."
   ]
  },
  {
   "cell_type": "markdown",
   "metadata": {
    "_uuid": "db00e1fceb9111752409678d708266245b06e07d"
   },
   "source": [
    "# <a id='1'>1. Load libraries and read the data</a> "
   ]
  },
  {
   "cell_type": "markdown",
   "metadata": {
    "_uuid": "a379366ad7cd659d25ec51c5beb811419e86da34"
   },
   "source": [
    "## <a id='1.1'>1.1. Load libraries</a> "
   ]
  },
  {
   "cell_type": "code",
   "execution_count": null,
   "metadata": {
    "_kg_hide-input": true,
    "_uuid": "a34c10f492c04496fa2f6aa1426f023069adbfc4"
   },
   "outputs": [],
   "source": [
    "# Python libraries\n",
    "# Classic,data manipulation and linear algebra\n",
    "import pandas as pd\n",
    "import numpy as np\n",
    "\n",
    "# Plots\n",
    "import seaborn as sns\n",
    "import matplotlib.pyplot as plt\n",
    "%matplotlib inline\n",
    "import plotly.offline as py\n",
    "import plotly.graph_objs as go\n",
    "from plotly.offline import download_plotlyjs, init_notebook_mode, plot, iplot\n",
    "import plotly.tools as tls\n",
    "import plotly.figure_factory as ff\n",
    "py.init_notebook_mode(connected=True)\n",
    "import squarify\n",
    "\n",
    "# Data processing, metrics and modeling\n",
    "from sklearn.preprocessing import StandardScaler, LabelEncoder\n",
    "from sklearn.model_selection import GridSearchCV, cross_val_score, train_test_split, GridSearchCV, RandomizedSearchCV\n",
    "from sklearn.metrics import precision_score, recall_score, confusion_matrix,  roc_curve, precision_recall_curve, accuracy_score, roc_auc_score\n",
    "import lightgbm as lgbm\n",
    "\n",
    "# Stats\n",
    "import scipy.stats as ss\n",
    "from scipy.stats import randint as sp_randint\n",
    "from scipy.stats import uniform as sp_uniform\n",
    "\n",
    "# Time\n",
    "from contextlib import contextmanager\n",
    "@contextmanager\n",
    "def timer(title):\n",
    "    t0 = time.time()\n",
    "    yield\n",
    "    print(\"{} - done in {:.0f}s\".format(title, time.time() - t0))\n",
    "\n",
    "#ignore warning messages \n",
    "import warnings\n",
    "warnings.filterwarnings('ignore') "
   ]
  },
  {
   "cell_type": "markdown",
   "metadata": {
    "_uuid": "416f578d421575dbce85aee44d26ad503470158c"
   },
   "source": [
    "## <a id='1.2'>1.2. Read data</a> "
   ]
  },
  {
   "cell_type": "code",
   "execution_count": null,
   "metadata": {
    "_uuid": "68f310aedcdc3349de8a64bf6aa43f9aecfc85dc"
   },
   "outputs": [],
   "source": [
    "# Reading dataset\n",
    "train = pd.read_csv(\"../input/train.csv\")\n",
    "test = pd.read_csv(\"../input/test.csv\")"
   ]
  },
  {
   "cell_type": "markdown",
   "metadata": {
    "_uuid": "7df9bb665ad4789bb6238153c2c18c3d5109ca1b"
   },
   "source": [
    "# <a id='2'>2. Overview</a> "
   ]
  },
  {
   "cell_type": "markdown",
   "metadata": {
    "_uuid": "fc216352485b4fc957d24dcbc4f5b771dc50f3c5"
   },
   "source": [
    "## <a id='2.1'>2.1. Head</a> "
   ]
  },
  {
   "cell_type": "code",
   "execution_count": null,
   "metadata": {
    "_uuid": "7cf1bc9c180127726ea541013f1f05fd2883bb6c"
   },
   "outputs": [],
   "source": [
    "# Head train and test\n",
    "display(train.head(),test.head())"
   ]
  },
  {
   "cell_type": "markdown",
   "metadata": {
    "_uuid": "152d26455fcfd49538cfda3898335261da185068"
   },
   "source": [
    "* **Survival**\t: 0 = No, 1 = Yes \n",
    "* **Pclass** : Ticket class\t1 = 1st, 2 = 2nd, 3 = 3rd\n",
    "* **Sex** : Sex\t Male or Female\n",
    "* **Age** : Age in years\t\n",
    "* **Sibsp** : number of siblings / spouses aboard the Titanic\t\n",
    "* **Parch** : number of parents / children aboard the Titanic\t\n",
    "* **Ticket** : Ticket number\t\n",
    "* **Fare** : Passenger fare\t\n",
    "* **Cabin** : Cabin number\t\n",
    "* **Embarked** : Port of Embarkation\tC = Cherbourg, Q = Queenstown, S = Southampton\n",
    "* **Type** : train or test "
   ]
  },
  {
   "cell_type": "markdown",
   "metadata": {
    "_uuid": "c89ba37ff567a5daddfa6c192fd90b7dfb2d7795"
   },
   "source": [
    "Merge train and test facilitates the exploratory analysis and the feature engineering. "
   ]
  },
  {
   "cell_type": "code",
   "execution_count": null,
   "metadata": {
    "_uuid": "004528ecb28bf2c954ad5a289013414c1512df0d"
   },
   "outputs": [],
   "source": [
    "# Adding a column in each dataset before merging\n",
    "train['Type'] = 'train'\n",
    "test['Type'] = 'test'\n",
    "\n",
    "# Merging train and test\n",
    "data = train.append(test) # The entire data: train + test.\n",
    "\n",
    "# How many rows and columns in dataset\n",
    "data.shape"
   ]
  },
  {
   "cell_type": "markdown",
   "metadata": {
    "_uuid": "d19968f28da5120886be4d0994286a559b3c854b"
   },
   "source": [
    "## <a id='2.2'>2.2. Missing values</a> "
   ]
  },
  {
   "cell_type": "code",
   "execution_count": null,
   "metadata": {
    "_kg_hide-input": true,
    "_uuid": "d2002c684f3fca3b01ddc7a1219610c5b3d8e3a8"
   },
   "outputs": [],
   "source": [
    "# Defining missing plot to detect all missing values in dataset\n",
    "def missing_plot(dataset, key) :\n",
    "    null_feat = pd.DataFrame(len(dataset[key]) - dataset.isnull().sum(), columns = ['Count'])\n",
    "    percentage_null = pd.DataFrame((len(dataset[key]) - (len(dataset[key]) - dataset.isnull().sum()))/len(dataset[key])*100, columns = ['Count'])\n",
    "    percentage_null = percentage_null.round(2)\n",
    "\n",
    "    trace = go.Bar(x = null_feat.index, y = null_feat['Count'] ,opacity = 0.8, text = percentage_null['Count'],  textposition = 'auto',marker=dict(color = '#7EC0EE',\n",
    "            line=dict(color='#000000',width=1.5)))\n",
    "\n",
    "    layout = dict(title =  \"Missing Values (count & %)\")\n",
    "\n",
    "    fig = dict(data = [trace], layout=layout)\n",
    "    py.iplot(fig)"
   ]
  },
  {
   "cell_type": "code",
   "execution_count": null,
   "metadata": {
    "_uuid": "b5bbd130b668ddc211f90bd54e16ca932f5c7e1c"
   },
   "outputs": [],
   "source": [
    "# Plotting \n",
    "missing_plot(data, 'PassengerId')"
   ]
  },
  {
   "cell_type": "markdown",
   "metadata": {
    "_uuid": "f4d6ceb750f65275374699955b2655eb23b2756f"
   },
   "source": [
    "* 3/4 of Cabin are empty, we drop this variable\n",
    "* 32 % of target (Survived) is missing, this is test data\n",
    "* 20 % of Age is missing\n",
    "* 1 Fare is empty\n",
    "* 2 Embarqued are empty"
   ]
  },
  {
   "cell_type": "markdown",
   "metadata": {
    "_cell_guid": "79c7e3d0-c299-4dcb-8224-4455121ee9b0",
    "_uuid": "d629ff2d2480ee46fbb7e2d37f6b5fab8052498a",
    "collapsed": true
   },
   "source": [
    "## <a id='2.3'>2.3 Target</a> "
   ]
  },
  {
   "cell_type": "code",
   "execution_count": null,
   "metadata": {
    "_kg_hide-input": false,
    "_uuid": "095969ea45d8a7d99cec04e74fde6effea49605a"
   },
   "outputs": [],
   "source": [
    "# Plotting target (count and %)\n",
    "train = data[data['Type']=='train']\n",
    "\n",
    "#------------COUNT-----------------------\n",
    "trace = go.Bar(\n",
    "        x = (train['Survived'].value_counts().values.tolist()), \n",
    "        y = ['Died', 'Survived'], \n",
    "        orientation = 'h', opacity = 0.8, \n",
    "        text=train['Survived'].value_counts().values.tolist(), \n",
    "        textfont=dict(size=15),\n",
    "        textposition = 'auto',\n",
    "        marker=dict(\n",
    "        color=['pink', 'lightblue'],\n",
    "        line=dict(color='#000000',width=1.5)\n",
    "        ))\n",
    "\n",
    "layout = dict(title =  'Count of target variable',\n",
    "                        autosize = False,\n",
    "                        height  = 500,\n",
    "                        width   = 800)\n",
    "                    \n",
    "fig = dict(data = [trace], layout=layout)\n",
    "py.iplot(fig)\n",
    "\n",
    "#------------PERCENTAGE-------------------\n",
    "trace = go.Pie(labels = ['Died', 'Survived'], values = train['Survived'].value_counts(), \n",
    "               textfont=dict(size=15), opacity = 0.8,\n",
    "               marker=dict(colors=['pink', 'lightblue'], \n",
    "                           line=dict(color='#000000', width=1.5)))\n",
    "\n",
    "\n",
    "layout = dict(title =  'Distribution of target variable',\n",
    "                        autosize = True,\n",
    "                        height  = 500,\n",
    "                        width   = 750)\n",
    "           \n",
    "fig = dict(data = [trace], layout=layout)\n",
    "py.iplot(fig)"
   ]
  },
  {
   "cell_type": "markdown",
   "metadata": {
    "_uuid": "26aa87fb00ddd0c7724e48656650a07790a6be72"
   },
   "source": [
    "# <a id='3'>3. Exploratory analysis and data processing</a> "
   ]
  },
  {
   "cell_type": "markdown",
   "metadata": {
    "_uuid": "a0d9d1f3b8b397e0e0cb7fba359b49c0aa4d0b93"
   },
   "source": [
    "## <a id='3.1'>3.1. Define plots</a> "
   ]
  },
  {
   "cell_type": "code",
   "execution_count": null,
   "metadata": {
    "_kg_hide-input": true,
    "_uuid": "4164bc178b92053446a55c72ed2c8ee6843f4105"
   },
   "outputs": [],
   "source": [
    "# Defining horizontal bar plot to visualize each variable of dataset (train and test)\n",
    "def barploth(var_select) :\n",
    "    colors = ['gold', 'lightgreen', 'lightcoral', 'lightskyblue', 'lightgrey', 'orange', 'white', 'lightpink']\n",
    "    trace1 = go.Bar(\n",
    "        y=data[var_select].value_counts().keys().tolist(),\n",
    "        x=data[var_select].value_counts().values.tolist(),\n",
    "        text=data[var_select].value_counts().values.tolist(),\n",
    "        textposition = 'auto',\n",
    "        orientation = 'h',\n",
    "        name=str(var_select),opacity = 0.8, marker=dict(color = colors,\n",
    "        line=dict(color = 'black',width=1)))\n",
    "\n",
    "    layout = dict(autosize = True,\n",
    "                  height  = 500,\n",
    "                  width   = 800,\n",
    "                  title =  'Total'+' '+str(var_select)+' '+'(train and test)',\n",
    "                  xaxis=dict(), \n",
    "                  margin=go.layout.Margin(\n",
    "                    l=50))\n",
    "\n",
    "    fig = go.Figure(data=[trace1], layout=layout)\n",
    "    py.iplot(fig)"
   ]
  },
  {
   "cell_type": "code",
   "execution_count": null,
   "metadata": {
    "_kg_hide-input": true,
    "_uuid": "fed366ca1aafe37e416f3bf50e945af6bfa0a35b"
   },
   "outputs": [],
   "source": [
    "# Defining bar plot to visualize each variable vs target (train)\n",
    "def barplot(var_select,title) :\n",
    "    S = data[data['Survived']==1]\n",
    "    D = data[data['Survived']==0]\n",
    "    tmp1 = S\n",
    "    tmp2 = D\n",
    "\n",
    "    color=['lightskyblue','gold']\n",
    "    trace2 = go.Bar(\n",
    "        x=tmp1[var_select].value_counts().keys().tolist(),\n",
    "        y=tmp1[var_select].value_counts().values.tolist(),\n",
    "        text=tmp1[var_select].value_counts().values.tolist(),\n",
    "        textposition = 'auto',\n",
    "        name='Survived',opacity = 1, marker=dict(\n",
    "        color='lightskyblue',\n",
    "        line=dict(color='#000000',width=1)))\n",
    "\n",
    "    trace1 = go.Bar(\n",
    "        x=tmp2[var_select].value_counts().keys().tolist(),\n",
    "        y=tmp2[var_select].value_counts().values.tolist(),\n",
    "        text=tmp2[var_select].value_counts().values.tolist(),\n",
    "        textposition = 'auto',\n",
    "        name='Died', opacity = 1, marker=dict(\n",
    "        color='pink',\n",
    "        line=dict(color='#000000',width=1)))\n",
    "\n",
    "    layout = dict(title = title,\n",
    "                  autosize = True,\n",
    "                  height  = 500,\n",
    "                  width   = 800,\n",
    "                  #barmode = 'stack',\n",
    "                  xaxis=dict(), \n",
    "                  yaxis=dict(title= 'Count'),\n",
    "                 legend=dict(x=-.1, y=1.5),\n",
    "                 margin=go.layout.Margin(\n",
    "                    b=30))\n",
    "\n",
    "    fig = go.Figure(data=[trace1, trace2], layout=layout)\n",
    "    py.iplot(fig)"
   ]
  },
  {
   "cell_type": "code",
   "execution_count": null,
   "metadata": {
    "_kg_hide-input": true,
    "_uuid": "e7332ca8c397b8383a38801b9351fd451947003e"
   },
   "outputs": [],
   "source": [
    "# Defining pie plot to visualize each variable repartition vs target modalities : Survived or Died (train)\n",
    "def plot_pie(var_select) :\n",
    "    S = data[data['Survived']==1]\n",
    "    D = data[data['Survived']==0]\n",
    "    \n",
    "    col =['Silver', 'gold','#CF5C36','lightblue','magenta', '#FF5D73','#F2D7EE','mediumturquoise']\n",
    "    \n",
    "    trace1 = go.Pie(values  = D[var_select].value_counts().values.tolist(),\n",
    "                    labels  = D[var_select].value_counts().keys().tolist(),\n",
    "                    textfont=dict(size=15), opacity = 0.8,\n",
    "                    hole = 0.5, \n",
    "                    hoverinfo = \"label+percent+name\",\n",
    "                    domain  = dict(x = [.0,.48]),\n",
    "                    name    = \"Died passenger\",\n",
    "                    marker  = dict(colors = col, line = dict(width = 1.5)))\n",
    "    trace2 = go.Pie(values  = S[var_select].value_counts().values.tolist(),\n",
    "                    labels  = S[var_select].value_counts().keys().tolist(),\n",
    "                    textfont=dict(size=15), opacity = 0.8,\n",
    "                    hole = 0.5,\n",
    "                    hoverinfo = \"label+percent+name\",\n",
    "                    marker  = dict(line = dict(width = 1.5)),\n",
    "                    domain  = dict(x = [.52,1]),\n",
    "                    name    = \"Survived passenger\" )\n",
    "\n",
    "    layout = go.Layout(dict(title = var_select + \" distribution by target \",\n",
    "                            annotations = [ dict(text = \"Died\"+\" : \"+\"549\",\n",
    "                                                font = dict(size = 13),\n",
    "                                                showarrow = False,\n",
    "                                                x = .22, y = -0.1),\n",
    "                                            dict(text = \"Survived\"+\" : \"+\"342\",\n",
    "                                                font = dict(size = 13),\n",
    "                                                showarrow = False,\n",
    "                                                x = .8,y = -.1)]))\n",
    "                                          \n",
    "\n",
    "    fig  = go.Figure(data = [trace1,trace2],layout = layout)\n",
    "    py.iplot(fig)"
   ]
  },
  {
   "cell_type": "code",
   "execution_count": null,
   "metadata": {
    "_kg_hide-input": true,
    "_uuid": "39e018b84ad3bfd112066111a6c2156d3161a860"
   },
   "outputs": [],
   "source": [
    "# Pandas crosstab %\n",
    "def stats(var_select):\n",
    "    stats = pd.crosstab(train['Survived'], train[var_select]).apply(lambda r: r/r.sum(), axis=0)\n",
    "    return stats.style.format(\"{:.2%}\")"
   ]
  },
  {
   "cell_type": "markdown",
   "metadata": {
    "_uuid": "3c88dac1fdf669564899c2d3f787fd009f866528"
   },
   "source": [
    "## <a id='3.2'>3.2. Sex</a> "
   ]
  },
  {
   "cell_type": "code",
   "execution_count": null,
   "metadata": {
    "_uuid": "21f5ef21a9418e56a5f27981c2907a4595ee91ef"
   },
   "outputs": [],
   "source": [
    "# Sex EDA \n",
    "barploth('Sex')"
   ]
  },
  {
   "cell_type": "code",
   "execution_count": null,
   "metadata": {
    "_uuid": "baa05849133cd9f4a65f8d07364ac6850a387fab"
   },
   "outputs": [],
   "source": [
    "stats('Sex')"
   ]
  },
  {
   "cell_type": "code",
   "execution_count": null,
   "metadata": {
    "_uuid": "5bc6095acea6d6faf0082a48c265a62a8db322df"
   },
   "outputs": [],
   "source": [
    "barplot('Sex', 'Sex vs Survived')"
   ]
  },
  {
   "cell_type": "code",
   "execution_count": null,
   "metadata": {
    "_uuid": "cde40ced4a119062fc907ec64cc9c99f1775778f"
   },
   "outputs": [],
   "source": [
    "plot_pie('Sex')"
   ]
  },
  {
   "cell_type": "markdown",
   "metadata": {
    "_uuid": "fafecf0d4a47a2b242f93482892fd2b33a55d307"
   },
   "source": [
    "## <a id='3.3'>3.3. New feature : Title (From Name)</a> "
   ]
  },
  {
   "cell_type": "code",
   "execution_count": null,
   "metadata": {
    "_uuid": "5b6056960ac0576f388cdffe94a0fadbfbfee420"
   },
   "outputs": [],
   "source": [
    "# Creating variable Title\n",
    "data['Title'] = data['Name']\n",
    "# Cleaning name and extracting Title\n",
    "for name_string in data['Name']:\n",
    "    data['Title'] = data['Name'].str.extract('([A-Za-z]+)\\.', expand=True)"
   ]
  },
  {
   "cell_type": "markdown",
   "metadata": {
    "_uuid": "f996a6019cefc4646270408477c0fb6f4f8e70bd"
   },
   "source": [
    "This function parses the names and extracts the titles.\n",
    "\n",
    "Exemple : Wilkes, **Mrs**. James (Ellen Needs)"
   ]
  },
  {
   "cell_type": "code",
   "execution_count": null,
   "metadata": {
    "_uuid": "7132df5c1fd2501fcf4e5ba472b35184737adbca"
   },
   "outputs": [],
   "source": [
    "barplot('Title', 'Title vs Survived')"
   ]
  },
  {
   "cell_type": "markdown",
   "metadata": {
    "_uuid": "56c457e6d83f1c7fdb7e5a87b87cb27c333a09c6"
   },
   "source": [
    "Some modalities can be grouped : \n",
    "* Mlle : Miss in french \n",
    "* Mme : Mrs in french\n",
    "* Ms : used with the last name or full name of a woman, intended as a default form of address for women regardless of marital status\n",
    "* Major: Military rank\n",
    "* Col: Military rank\n",
    "* Dr : Academic\n",
    "* Rev : Christian clergy\n",
    "* Capt: Military rank\n",
    "* Jonkheer :  Honorific in the Low Countries denoting the lowest rank within the nobility for men\n",
    "* Sir :Formal Honorific address for men\n",
    "* Lady : Honorific address for men\n",
    "* Don : Honorific prefix primarly used in Italy, Spain, Portugal for men\n",
    "* Countness : Honorific address for women\n",
    "* Dona : Honorific prefix primarly used in Italy, Spain, Portugal for women"
   ]
  },
  {
   "cell_type": "code",
   "execution_count": null,
   "metadata": {
    "_uuid": "dd628a49b12b9a886c7c5964b4a8edb4068c9600"
   },
   "outputs": [],
   "source": [
    "# Replacing rare titles \n",
    "mapping = {'Mlle': 'Miss', \n",
    "           'Ms': 'Miss', \n",
    "           'Mme': 'Mrs',\n",
    "           'Major': 'Other', \n",
    "           'Col': 'Other', \n",
    "           'Dr' : 'Other', \n",
    "           'Rev' : 'Other',\n",
    "           'Capt': 'Other', \n",
    "           'Jonkheer': 'Royal',\n",
    "           'Sir': 'Royal', \n",
    "           'Lady': 'Royal', \n",
    "           'Don': 'Royal',\n",
    "           'Countess': 'Royal', \n",
    "           'Dona': 'Royal'}\n",
    "data.replace({'Title': mapping}, inplace=True)\n",
    "titles = ['Miss', 'Mr', 'Mrs', 'Royal', 'Other', 'Master']"
   ]
  },
  {
   "cell_type": "code",
   "execution_count": null,
   "metadata": {
    "_uuid": "289d5d690dee18704bc432ce5e3cc907fcefcb88"
   },
   "outputs": [],
   "source": [
    "barploth('Title')"
   ]
  },
  {
   "cell_type": "code",
   "execution_count": null,
   "metadata": {
    "_uuid": "d0bc9af5bd3348e32658c005a72be8cf2a7db854"
   },
   "outputs": [],
   "source": [
    "barplot('Title', 'Title vs Survived')"
   ]
  },
  {
   "cell_type": "code",
   "execution_count": null,
   "metadata": {
    "_uuid": "2399ea8ae9c67a66e852881238c7a9efe7c6dde7"
   },
   "outputs": [],
   "source": [
    "plot_pie('Title')"
   ]
  },
  {
   "cell_type": "markdown",
   "metadata": {
    "_uuid": "b7e0520e7623ad406605c30d52b8fd51f02547ab"
   },
   "source": [
    "## <a id='3.4'>3.4. Age</a> "
   ]
  },
  {
   "cell_type": "markdown",
   "metadata": {
    "_uuid": "2af4fd728620d93bff581bfecadf16787513a969"
   },
   "source": [
    "We have seen that the Age variable was missing 263 values ( ~ 20 % of the dataset). "
   ]
  },
  {
   "cell_type": "code",
   "execution_count": null,
   "metadata": {
    "_kg_hide-input": true,
    "_uuid": "a71c0153d08af3648a3b822e14ee014eb6e4df4c"
   },
   "outputs": [],
   "source": [
    "# Plotting age distribution vs target\n",
    "S = data[data['Survived']==1]\n",
    "D = data[data['Survived']==0]\n",
    "\n",
    "def plot_distribution(var_select, title) :  \n",
    "    tmp1 = S[var_select]\n",
    "    tmp2 = D[var_select]\n",
    "    \n",
    "    trace0 = go.Histogram(\n",
    "        x=tmp1, opacity=1, name='Survived', marker=dict(\n",
    "        color='lightblue')\n",
    "    )\n",
    "    trace1 = go.Histogram(\n",
    "        x=tmp2, opacity=1, name='Died', marker=dict(\n",
    "        color='pink')\n",
    "    )\n",
    "    \n",
    "    data = [trace0, trace1]\n",
    "    layout = go.Layout(barmode='stack', title = title,\n",
    "                  autosize = True,\n",
    "                  height  = 500,\n",
    "                  width   = 800,\n",
    "                  #barmode = 'stack',\n",
    "                  xaxis=dict(), \n",
    "                  yaxis=dict(title= 'Count'), \n",
    "                  yaxis2=dict(range= [-0, 75], \n",
    "                              overlaying= 'y', \n",
    "                              anchor= 'x', \n",
    "                              side= 'right',\n",
    "                              zeroline=False,\n",
    "                              showgrid= False, \n",
    "                              title= '% Died'\n",
    "                             ),\n",
    "                 legend=dict(x=-.1, y=1.5),\n",
    "                 margin=go.layout.Margin(\n",
    "                    b=0))\n",
    "    fig = go.Figure(data=data, layout=layout)\n",
    "\n",
    "    py.iplot(fig, filename = 'Density plot')\n",
    "\n"
   ]
  },
  {
   "cell_type": "code",
   "execution_count": null,
   "metadata": {},
   "outputs": [],
   "source": [
    "plot_distribution('Age', 'Age vs Survived')"
   ]
  },
  {
   "cell_type": "code",
   "execution_count": null,
   "metadata": {
    "_uuid": "7373c6e42698fc850f286933c5d8b477ef8b35e6"
   },
   "outputs": [],
   "source": [
    "# Plotting age vs sex vs target\n",
    "train = data[data[\"Type\"]==\"train\"]\n",
    "g = sns.FacetGrid(train, col=\"Sex\", hue=\"Survived\", palette=\"Set1\")\n",
    "g.map(sns.distplot, \"Age\")\n",
    "g = g.add_legend()\n",
    "g.fig.suptitle('Age vs Sex vs Survived', fontsize=16)\n",
    "g.fig.set_size_inches(15,8)"
   ]
  },
  {
   "cell_type": "code",
   "execution_count": null,
   "metadata": {
    "_uuid": "c6e985da3cf3d212d85d6a7a258455b3296f24b9"
   },
   "outputs": [],
   "source": [
    "# Plotting title vs age vs sex\n",
    "train = data[data[\"Type\"]==\"train\"]\n",
    "g = sns.FacetGrid(train, col=\"Title\", hue=\"Sex\")\n",
    "g.map(sns.distplot, \"Age\")\n",
    "g = g.add_legend()\n",
    "g.set(ylim=(0, 0.1))\n",
    "g.fig.suptitle('Title vs Age', fontsize=16)\n",
    "g.fig.set_size_inches(15,8)"
   ]
  },
  {
   "cell_type": "code",
   "execution_count": null,
   "metadata": {
    "_uuid": "d090e1f1a0dda2102cac6b46b15488cb5d06e3da"
   },
   "outputs": [],
   "source": [
    "# Replacing missing age by median/title \n",
    "for title in titles:\n",
    "    age_to_impute = data.groupby('Title')['Age'].median()[titles.index(title)]\n",
    "    data.loc[(data['Age'].isnull()) & (data['Title'] == title), 'Age'] = age_to_impute"
   ]
  },
  {
   "cell_type": "markdown",
   "metadata": {
    "_uuid": "c7a49a45f5628dedf4cda02a0c759d4bd348aaf4"
   },
   "source": [
    "## <a id='3.5'>3.5. New feature : Family Size (From SibSp and Parch)</a> "
   ]
  },
  {
   "cell_type": "code",
   "execution_count": null,
   "metadata": {
    "_uuid": "bb359964284437f18153baf577e02b86f3d44d71"
   },
   "outputs": [],
   "source": [
    "# EDA sibsp and parch\n",
    "barplot('SibSp', 'SibSp vs Survived')\n",
    "barplot('Parch', 'Parch vs Survived')"
   ]
  },
  {
   "cell_type": "code",
   "execution_count": null,
   "metadata": {
    "_uuid": "d9bbd53559ea21438b02393a0e54927e15bb3bc9"
   },
   "outputs": [],
   "source": [
    "# Creating new feature : family size\n",
    "data['Family_Size'] = data['Parch'] + data['SibSp'] + 1\n",
    "data.loc[:,'FsizeD']='Alone'\n",
    "data.loc[(data['Family_Size']>1),'FsizeD']='Small'\n",
    "data.loc[(data['Family_Size']>4),'FsizeD']='Big'"
   ]
  },
  {
   "cell_type": "code",
   "execution_count": null,
   "metadata": {
    "_uuid": "6455a3453106d0de805f7ac91279228f06e0d102"
   },
   "outputs": [],
   "source": [
    "# EDA family size\n",
    "barplot('Family_Size', 'Family_size vs Survived')"
   ]
  },
  {
   "cell_type": "code",
   "execution_count": null,
   "metadata": {
    "_kg_hide-input": true,
    "_uuid": "9c55b2dac233e8d2d750118d57796ecf907ba1e1"
   },
   "outputs": [],
   "source": [
    "def moscaicplot(var):\n",
    "    x = 0.\n",
    "    y = 0.\n",
    "    width = 50.\n",
    "    height = 50.\n",
    "    type_list = list(data[var].unique())\n",
    "    values = [len(data[data[var] == i]) for i in type_list]\n",
    "    percent = [(len(data[data[var] == i])/len(data[var])*100) for i in type_list]\n",
    "\n",
    "    normed = squarify.normalize_sizes(values, width, height)\n",
    "    rects = squarify.squarify(normed, x, y, width, height)\n",
    "\n",
    "    color_brewer =['#FF5D73','#F2D7EE','mediumturquoise','#7C7A7A','#CF5C36','lightblue','magenta']\n",
    "    shapes = []\n",
    "    annotations = []\n",
    "    counter = 0\n",
    "\n",
    "    for r in rects:\n",
    "        shapes.append( \n",
    "            dict(type = 'rect', \n",
    "                x0 = r['x'], \n",
    "                y0 = r['y'], \n",
    "                x1 = r['x']+r['dx'], \n",
    "                y1 = r['y']+r['dy'],\n",
    "                line = dict( width = 1.5, color = 'black'),\n",
    "                fillcolor = color_brewer[counter]))\n",
    "        annotations.append(\n",
    "            dict(x = r['x']+(r['dx']/2),\n",
    "                y = r['y']+(r['dy']/2),\n",
    "                text = \"{}<br>{}<br>{:.0f}%\".format(type_list[counter], values[counter], percent[counter]), font=dict(color='black', size = 14),\n",
    "                showarrow = False))\n",
    "        counter = counter + 1\n",
    "        if counter >= len(color_brewer):\n",
    "            counter = 0\n",
    "\n",
    "    # For hover text\n",
    "    trace0 = go.Scatter(\n",
    "        x = [ r['x']+(r['dx']/2) for r in rects ], \n",
    "        y = [ r['y']+(r['dy']/2) for r in rects ],\n",
    "        text = [ str(v) for v in values ], \n",
    "        mode = 'text')\n",
    "\n",
    "    layout = dict(\n",
    "        autosize = True,\n",
    "        height=700, \n",
    "        width=800,\n",
    "        xaxis=dict(showgrid=False,zeroline=False),\n",
    "        yaxis=dict(showgrid=False,zeroline=False),\n",
    "        title = var +' '+ '- Distribution',\n",
    "        shapes=shapes,\n",
    "        annotations=annotations,\n",
    "        hovermode='closest',\n",
    "        font=dict(color=\"Black\"))\n",
    "\n",
    "    # With hovertext\n",
    "    figure = dict(data=[trace0], layout=layout)\n",
    "    iplot(figure, filename='squarify-treemap')"
   ]
  },
  {
   "cell_type": "code",
   "execution_count": null,
   "metadata": {
    "_uuid": "fc9194f20ec4a1ed9f2a23fa582d03bb1309cd0c"
   },
   "outputs": [],
   "source": [
    "moscaicplot(\"FsizeD\")"
   ]
  },
  {
   "cell_type": "code",
   "execution_count": null,
   "metadata": {
    "_uuid": "5c87d129e4c8abfceb870c470a79588a70c172de"
   },
   "outputs": [],
   "source": [
    "barplot('FsizeD', 'FsizeD vs Survived')"
   ]
  },
  {
   "cell_type": "code",
   "execution_count": null,
   "metadata": {
    "_uuid": "80158c589d356e76e26da10c7962a3c6577202c7"
   },
   "outputs": [],
   "source": [
    "plot_pie('FsizeD')"
   ]
  },
  {
   "cell_type": "markdown",
   "metadata": {
    "_uuid": "4d71f6cb9e20822324b4b52215599d12f3eb1900"
   },
   "source": [
    "## <a id='3.6'>3.6. Processing Fare (Replace missing value by Pclass = 3 's median)</a> "
   ]
  },
  {
   "cell_type": "code",
   "execution_count": null,
   "metadata": {
    "_uuid": "93950b1321a9ab39702122c0d7d9ed577e7c8c65"
   },
   "outputs": [],
   "source": [
    "data[data[\"Fare\"].isnull()]"
   ]
  },
  {
   "cell_type": "code",
   "execution_count": null,
   "metadata": {
    "_uuid": "28a2e311b86997bbe7a980b16e9c20867e796738"
   },
   "outputs": [],
   "source": [
    "g = sns.FacetGrid(train, col=\"Pclass\", hue=\"Survived\", palette=\"Set1\")\n",
    "g.map(sns.distplot, \"Fare\")\n",
    "g.set(ylim=(0, 0.1),xlim = (-0, 200))\n",
    "g = g.add_legend()\n",
    "g.fig.suptitle('Pclass vs Fare vs Survived', fontsize=16)\n",
    "g.fig.set_size_inches(15,8)"
   ]
  },
  {
   "cell_type": "code",
   "execution_count": null,
   "metadata": {
    "_kg_hide-input": true,
    "_uuid": "11e6c10ce54facd2164f13feb3317f4f453716c4"
   },
   "outputs": [],
   "source": [
    "def plot_distribution(var_select, title, bin_size) : \n",
    "    tmp1 = data[data[\"Pclass\"] == 3]\n",
    "    tmp1 = tmp1[var_select].dropna()\n",
    "    hist_data = [tmp1]\n",
    "    \n",
    "    group_labels = [var_select]\n",
    "    colors = ['gold']\n",
    "\n",
    "    fig = ff.create_distplot(hist_data, group_labels, colors = colors, show_hist = True, curve_type='kde', bin_size = bin_size)\n",
    "    \n",
    "    fig['layout'].update(title = title, autosize = True,\n",
    "                        height  = 500,\n",
    "                        width   = 800,annotations=[\n",
    "        dict(\n",
    "            x=data[data[\"Pclass\"]==3].loc[:,\"Fare\"].median(),\n",
    "            y=0.086,\n",
    "            xref='x',\n",
    "            yref='y',\n",
    "            text=data[data[\"Pclass\"]==3].loc[:,\"Fare\"].median(),\n",
    "            showarrow=True,\n",
    "            arrowhead=7,\n",
    "            ax=20,\n",
    "            ay=-40,\n",
    "             font=dict(\n",
    "                size=16,\n",
    "                color='black'))])\n",
    "\n",
    "    py.iplot(fig, filename = 'Density plot')\n",
    "    \n",
    "plot_distribution('Fare', 'Fare (Pclass = 3)',1)"
   ]
  },
  {
   "cell_type": "code",
   "execution_count": null,
   "metadata": {
    "_uuid": "7250eb55f44327d25906dbf89c1e0b1a49a1bf9f"
   },
   "outputs": [],
   "source": [
    "fa = data[data[\"Pclass\"]==3]\n",
    "data['Fare'].fillna(fa['Fare'].median(), inplace = True)"
   ]
  },
  {
   "cell_type": "markdown",
   "metadata": {
    "_uuid": "7d291eb26d1fd726704bbb8a591078426902b1c6"
   },
   "source": [
    "## <a id='3.7'>3.7. New feature : Child (From Age)</a> "
   ]
  },
  {
   "cell_type": "code",
   "execution_count": null,
   "metadata": {
    "_uuid": "9e8a87739d4847459ef6fa048af930797dca63ed"
   },
   "outputs": [],
   "source": [
    "data.loc[:,'Child']=1\n",
    "data.loc[(data['Age']>=18),'Child']=0"
   ]
  },
  {
   "cell_type": "code",
   "execution_count": null,
   "metadata": {
    "_uuid": "ea7dae2341939eeea77a48838f26fbc5f3b978fb"
   },
   "outputs": [],
   "source": [
    "barploth('Child')"
   ]
  },
  {
   "cell_type": "code",
   "execution_count": null,
   "metadata": {
    "_uuid": "3ee50177312b932d192de87c9024e659894b354e"
   },
   "outputs": [],
   "source": [
    "barplot('Child', 'Child vs Survived')"
   ]
  },
  {
   "cell_type": "code",
   "execution_count": null,
   "metadata": {
    "_uuid": "17e1fe487480e74a2e948828d972ce22a1d07e7e"
   },
   "outputs": [],
   "source": [
    "plot_pie('Child')"
   ]
  },
  {
   "cell_type": "markdown",
   "metadata": {
    "_uuid": "3b9e4bdafcddbcbb5db08202d8d8781e991616dd"
   },
   "source": [
    "## <a id='3.8'>3.8. New feature : Family_Survival</a> "
   ]
  },
  {
   "cell_type": "markdown",
   "metadata": {
    "_uuid": "009c90f3c26a11e5cf7fbe6f6f99b31ed5ece486"
   },
   "source": [
    "This feature is from this kernel : https://www.kaggle.com/konstantinmasich/titanic-0-82-0-83"
   ]
  },
  {
   "cell_type": "code",
   "execution_count": null,
   "metadata": {
    "_kg_hide-input": true,
    "_uuid": "d865ce1d579bde97d42fc754fa6555f812bb4412"
   },
   "outputs": [],
   "source": [
    "data['Last_Name'] = data['Name'].apply(lambda x: str.split(x, \",\")[0])\n",
    "\n",
    "DEFAULT_SURVIVAL_VALUE = 0.5\n",
    "data['Family_Survival'] = DEFAULT_SURVIVAL_VALUE\n",
    "\n",
    "for grp, grp_df in data[['Survived','Name', 'Last_Name', 'Fare', 'Ticket', 'PassengerId',\n",
    "                           'SibSp', 'Parch', 'Age', 'Cabin']].groupby(['Last_Name', 'Fare']):\n",
    "    \n",
    "    if (len(grp_df) != 1):\n",
    "        # A Family group is found.\n",
    "        for ind, row in grp_df.iterrows():\n",
    "            smax = grp_df.drop(ind)['Survived'].max()\n",
    "            smin = grp_df.drop(ind)['Survived'].min()\n",
    "            passID = row['PassengerId']\n",
    "            if (smax == 1.0):\n",
    "                data.loc[data['PassengerId'] == passID, 'Family_Survival'] = 1\n",
    "            elif (smin==0.0):\n",
    "                data.loc[data['PassengerId'] == passID, 'Family_Survival'] = 0\n",
    "\n",
    "print(\"Number of passengers with family survival information:\", \n",
    "      data.loc[data['Family_Survival']!=0.5].shape[0])"
   ]
  },
  {
   "cell_type": "code",
   "execution_count": null,
   "metadata": {
    "_kg_hide-input": true,
    "_uuid": "7471cf4e83660df2f9619b52ee9db1ec75eb48b0"
   },
   "outputs": [],
   "source": [
    "for _, grp_df in data.groupby('Ticket'):\n",
    "    if (len(grp_df) != 1):\n",
    "        for ind, row in grp_df.iterrows():\n",
    "            if (row['Family_Survival'] == 0) | (row['Family_Survival']== 0.5):\n",
    "                smax = grp_df.drop(ind)['Survived'].max()\n",
    "                smin = grp_df.drop(ind)['Survived'].min()\n",
    "                passID = row['PassengerId']\n",
    "                if (smax == 1.0):\n",
    "                    data.loc[data['PassengerId'] == passID, 'Family_Survival'] = 1\n",
    "                elif (smin==0.0):\n",
    "                    data.loc[data['PassengerId'] == passID, 'Family_Survival'] = 0\n",
    "                        \n",
    "print(\"Number of passenger with family/group survival information: \" \n",
    "      +str(data[data['Family_Survival']!=0.5].shape[0]))"
   ]
  },
  {
   "cell_type": "markdown",
   "metadata": {
    "_uuid": "38ec818ba41c98ee279d39f029a2d16c93da7e76"
   },
   "source": [
    "# <a id='4'>4. Prepare dataset</a> "
   ]
  },
  {
   "cell_type": "markdown",
   "metadata": {
    "_uuid": "39f841b26d0272959c42ac65034ccb4ad97847b5"
   },
   "source": [
    "## <a id='4.1'>4.1. Drop some features</a> "
   ]
  },
  {
   "cell_type": "code",
   "execution_count": null,
   "metadata": {
    "_kg_hide-input": true,
    "_uuid": "007beca9fd377892c2c73f5bb3a7aad5eae35601"
   },
   "outputs": [],
   "source": [
    "data = data.drop(columns = [\n",
    "                            'Age',\n",
    "                            'Cabin', \n",
    "                            'Embarked',\n",
    "                            'Name',\n",
    "                            'Last_Name',\n",
    "                            'Parch', \n",
    "                            'SibSp', \n",
    "                            'Ticket', \n",
    "                            'Family_Size',\n",
    "                           ])\n",
    "data.head()"
   ]
  },
  {
   "cell_type": "markdown",
   "metadata": {
    "_uuid": "89ad0887a11918b9b376dbacefb9b78418c22743"
   },
   "source": [
    "## <a id='4.2'>4.2. Standard scaler & dummies</a> "
   ]
  },
  {
   "cell_type": "code",
   "execution_count": null,
   "metadata": {
    "_kg_hide-input": true,
    "_uuid": "b64148d2bfeda3bca592b4c9c3fe30a36f75a112"
   },
   "outputs": [],
   "source": [
    "target_col = [\"Survived\"]\n",
    "id_dataset = [\"Type\"]\n",
    "cat_cols   = data.nunique()[data.nunique() < 12].keys().tolist()\n",
    "cat_cols   = [x for x in cat_cols ]\n",
    "#numerical columns\n",
    "num_cols   = [x for x in data.columns if x not in cat_cols + target_col + id_dataset]\n",
    "#Binary columns with 2 values\n",
    "bin_cols   = data.nunique()[data.nunique() == 2].keys().tolist()\n",
    "#Columns more than 2 values\n",
    "multi_cols = [i for i in cat_cols if i not in bin_cols]\n",
    "\n",
    "#Label encoding Binary columns\n",
    "le = LabelEncoder()\n",
    "for i in bin_cols :\n",
    "    data[i] = le.fit_transform(data[i])\n",
    "    \n",
    "#Duplicating columns for multi value columns\n",
    "data = pd.get_dummies(data = data,columns = multi_cols )\n",
    "\n",
    "#Scaling Numerical columns\n",
    "std = StandardScaler()\n",
    "scaled = std.fit_transform(data[num_cols])\n",
    "scaled = pd.DataFrame(scaled,columns=num_cols)\n",
    "\n",
    "#dropping original values merging scaled values for numerical columns\n",
    "df_data_og = data.copy()\n",
    "data = data.drop(columns = num_cols,axis = 1)\n",
    "data = data.merge(scaled,left_index=True,right_index=True,how = \"left\")\n",
    "\n",
    "data = data.drop(columns = ['PassengerId'],axis = 1)"
   ]
  },
  {
   "cell_type": "markdown",
   "metadata": {
    "_uuid": "6596eac3d72997213a2d9061a053a3bae88403c7"
   },
   "source": [
    "## <a id='4.3'>4.3. Correlation plot</a> "
   ]
  },
  {
   "cell_type": "code",
   "execution_count": null,
   "metadata": {
    "_kg_hide-input": true,
    "_uuid": "a74d934d83e387ad69834572c676c892d8f55b1b"
   },
   "outputs": [],
   "source": [
    "def correlation_plot():\n",
    "    #correlation\n",
    "    correlation = data.drop(columns=['Type', 'Survived']).corr()\n",
    "    #tick labels\n",
    "    matrix_cols = correlation.columns.tolist()\n",
    "    #convert to array\n",
    "    corr_array  = np.array(correlation)\n",
    "    trace = go.Heatmap(z = corr_array,\n",
    "                       x = matrix_cols,\n",
    "                       y = matrix_cols,\n",
    "                       colorscale='Viridis',\n",
    "                       colorbar   = dict() ,\n",
    "                      )\n",
    "    layout = go.Layout(dict(title = 'Correlation Matrix for variables',\n",
    "                            #autosize = False,\n",
    "                            #height  = 1400,\n",
    "                            #width   = 1600,\n",
    "                            margin  = dict(r = 0 ,l = 100,\n",
    "                                           t = 0,b = 100,\n",
    "                                         ),\n",
    "                            yaxis   = dict(tickfont = dict(size = 9)),\n",
    "                            xaxis   = dict(tickfont = dict(size = 9)),\n",
    "                           )\n",
    "                      )\n",
    "    fig = go.Figure(data = [trace],layout = layout)\n",
    "    py.iplot(fig)"
   ]
  },
  {
   "cell_type": "code",
   "execution_count": null,
   "metadata": {
    "_uuid": "4492378b04f986cfe10a63a82b5c9ebaeb60a4d8"
   },
   "outputs": [],
   "source": [
    "correlation_plot()"
   ]
  },
  {
   "cell_type": "code",
   "execution_count": null,
   "metadata": {
    "_uuid": "36f450071d6b30f089e7ef86d9d508cba20198da"
   },
   "outputs": [],
   "source": [
    "# Cutting train and test\n",
    "train = data[data['Type'] == 1]\n",
    "test = data[data['Type'] == 0]\n",
    "\n",
    "train = train.drop(columns = ['Type'])\n",
    "test = test.drop(columns = ['Type'])"
   ]
  },
  {
   "cell_type": "markdown",
   "metadata": {
    "_uuid": "10fccd46c6cf2b2307d5a04467fca3ec32a685d6"
   },
   "source": [
    "## <a id='4.4'>4.4. Define (X,  y)</a> "
   ]
  },
  {
   "cell_type": "code",
   "execution_count": null,
   "metadata": {
    "_uuid": "be1128715e759fd06f85b0e4e1e7003439fe3404"
   },
   "outputs": [],
   "source": [
    "X = train.drop('Survived', 1)\n",
    "y = train['Survived']\n",
    "X_test = test\n",
    "X_test = X_test.drop(columns = ['Survived'\n",
    "                           ])"
   ]
  },
  {
   "cell_type": "markdown",
   "metadata": {
    "_uuid": "ee94054fe5a61f64d4e925bccca45c04ed4e5d22"
   },
   "source": [
    "## <a id='4.5'>4.5. Train test split</a> "
   ]
  },
  {
   "cell_type": "code",
   "execution_count": null,
   "metadata": {
    "_uuid": "cc7d5959294797cb8f239739e87d9c6e436d1b27"
   },
   "outputs": [],
   "source": [
    "# Train_test split\n",
    "random_state = 42\n",
    "X_train, X_valid, y_train, y_valid = train_test_split(X, y, test_size = 0.2, random_state = random_state)"
   ]
  },
  {
   "cell_type": "markdown",
   "metadata": {
    "_uuid": "705856889542ff9f98d585eaaea6a4286217934e"
   },
   "source": [
    "# <a id='5'>5. Light GBM model</a> "
   ]
  },
  {
   "cell_type": "markdown",
   "metadata": {
    "_uuid": "6e6e620171d36c05ed93717f0b1f16d59c0a02f8"
   },
   "source": [
    "## <a id='5.1'>5.1. Light GBM -  RandomizedSearchCV to optimise hyperparameters</a> "
   ]
  },
  {
   "cell_type": "code",
   "execution_count": null,
   "metadata": {
    "_kg_hide-input": true,
    "_uuid": "6c0ffb7922aceb76176cfddfa10f2cdd27360e26"
   },
   "outputs": [],
   "source": [
    "fit_params = {\"early_stopping_rounds\" : 100, \n",
    "             \"eval_metric\" : 'auc', \n",
    "             \"eval_set\" : [(X_train,y_train)],\n",
    "             'eval_names': ['valid'],\n",
    "             'verbose': 0,\n",
    "             'categorical_feature': 'auto'}\n",
    "\n",
    "param_test = {'learning_rate' : [0.01, 0.02, 0.03, 0.04, 0.05, 0.08, 0.1, 0.2, 0.3, 0.4],\n",
    "              'n_estimators' : [100, 200, 300, 400, 500, 600, 800, 1000, 1500, 2000],\n",
    "              'num_leaves': sp_randint(6, 50), \n",
    "              'min_child_samples': sp_randint(100, 500), \n",
    "              'min_child_weight': [1e-5, 1e-3, 1e-2, 1e-1, 1, 1e1, 1e2, 1e3, 1e4],\n",
    "              'subsample': sp_uniform(loc=0.2, scale=0.8), \n",
    "              'max_depth': [-1, 1, 2, 3, 4, 5, 6, 7],\n",
    "              'colsample_bytree': sp_uniform(loc=0.4, scale=0.6),\n",
    "              'reg_alpha': [0, 1e-1, 1, 2, 5, 7, 10, 50, 100],\n",
    "              'reg_lambda': [0, 1e-1, 1, 5, 10, 20, 50, 100]}\n",
    "\n",
    "#number of combinations\n",
    "n_iter = 500 \n",
    "\n",
    "#intializing lgbm and lunching the search\n",
    "lgbm_clf = lgbm.LGBMClassifier(random_state=random_state, silent=True, metric='None', n_jobs=4)\n",
    "grid_search = RandomizedSearchCV(\n",
    "    estimator=lgbm_clf, param_distributions=param_test, \n",
    "    n_iter=n_iter,\n",
    "    scoring='accuracy',\n",
    "    cv=5,\n",
    "    refit=True,\n",
    "    random_state=random_state,\n",
    "    verbose=True)\n",
    "\n",
    "grid_search.fit(X, y, **fit_params)\n",
    "print('Best score reached: {} with params: {} '.format(grid_search.best_score_, grid_search.best_params_))\n",
    "\n",
    "opt_parameters =  grid_search.best_params_"
   ]
  },
  {
   "cell_type": "markdown",
   "metadata": {
    "_uuid": "ee51c136d24264f7d489da358306afe8a120b320"
   },
   "source": [
    "## <a id='5.2'>5.2. Light GBM - Model performance report</a> "
   ]
  },
  {
   "cell_type": "code",
   "execution_count": null,
   "metadata": {
    "_kg_hide-input": true,
    "_uuid": "374ff1b8d01b2f78bad1d67fdaf26a80b718cd89"
   },
   "outputs": [],
   "source": [
    "def model_performance(model) : \n",
    "    #Conf matrix\n",
    "    conf_matrix = confusion_matrix(y_valid, y_pred)\n",
    "    trace1 = go.Heatmap(z = conf_matrix  ,x = [\"0 (pred)\",\"1 (pred)\"],\n",
    "                        y = [\"0 (true)\",\"1 (true)\"],xgap = 2, ygap = 2, \n",
    "                        colorscale = 'Viridis', showscale  = False)\n",
    "\n",
    "    #Show metrics\n",
    "    tp = conf_matrix[1,1]\n",
    "    fn = conf_matrix[1,0]\n",
    "    fp = conf_matrix[0,1]\n",
    "    tn = conf_matrix[0,0]\n",
    "    Accuracy  =  ((tp+tn)/(tp+tn+fp+fn))\n",
    "    Precision =  (tp/(tp+fp))\n",
    "    Recall    =  (tp/(tp+fn))\n",
    "    F1_score  =  (2*(((tp/(tp+fp))*(tp/(tp+fn)))/((tp/(tp+fp))+(tp/(tp+fn)))))\n",
    "\n",
    "    show_metrics = pd.DataFrame(data=[[Accuracy , Precision, Recall, F1_score]])\n",
    "    show_metrics = show_metrics.T\n",
    "\n",
    "    colors = ['gold', 'lightgreen', 'lightcoral', 'lightskyblue']\n",
    "    trace2 = go.Bar(x = (show_metrics[0].values), \n",
    "                    y = ['Accuracy', 'Precision', 'Recall', 'F1_score'], text = np.round_(show_metrics[0].values,4),\n",
    "                    textposition = 'auto', textfont=dict(color='black'),\n",
    "                    orientation = 'h', opacity = 1, marker=dict(\n",
    "            color=colors,\n",
    "            line=dict(color='#000000',width=1.5)))\n",
    "    \n",
    "    #Roc curve\n",
    "    model_roc_auc = round(roc_auc_score(y_valid, y_score) , 3)\n",
    "    fpr, tpr, t = roc_curve(y_valid, y_score)\n",
    "    trace3 = go.Scatter(x = fpr,y = tpr,\n",
    "                        name = \"Roc : \" + str(model_roc_auc),\n",
    "                        line = dict(color = ('rgb(22, 96, 167)'),width = 2), fill='tozeroy')\n",
    "    trace4 = go.Scatter(x = [0,1],y = [0,1],\n",
    "                        line = dict(color = ('black'),width = 1.5,\n",
    "                        dash = 'dot'))\n",
    "    \n",
    "    # Precision-recall curve\n",
    "    precision, recall, thresholds = precision_recall_curve(y_valid, y_score)\n",
    "    trace5 = go.Scatter(x = recall, y = precision,\n",
    "                        name = \"Precision\" + str(precision),\n",
    "                        line = dict(color = ('lightcoral'),width = 2), fill='tozeroy')\n",
    "    \n",
    "    #Feature importance\n",
    "    coefficients  = pd.DataFrame(eval(model).feature_importances_)\n",
    "    column_data   = pd.DataFrame(list(train))\n",
    "    coef_sumry    = (pd.merge(coefficients,column_data,left_index= True,\n",
    "                              right_index= True, how = \"left\"))\n",
    "    coef_sumry.columns = [\"coefficients\",\"features\"]\n",
    "    coef_sumry    = coef_sumry.sort_values(by = \"coefficients\",ascending = False)\n",
    "    coef_sumry = coef_sumry[coef_sumry[\"coefficients\"] !=0]\n",
    "    trace6 = go.Bar(x = coef_sumry[\"features\"],y = coef_sumry[\"coefficients\"],\n",
    "                    name = \"coefficients\", \n",
    "                    marker = dict(color = coef_sumry[\"coefficients\"],\n",
    "                                  colorscale = \"Viridis\",\n",
    "                                  line = dict(width = .6,color = \"black\")))\n",
    "    \n",
    "    #Cumulative gain\n",
    "    pos = pd.get_dummies(y_valid).as_matrix()\n",
    "    pos = pos[:,1] \n",
    "    npos = np.sum(pos)\n",
    "    index = np.argsort(y_score) \n",
    "    index = index[::-1] \n",
    "    sort_pos = pos[index]\n",
    "    #cumulative sum\n",
    "    cpos = np.cumsum(sort_pos) \n",
    "    #recall\n",
    "    recall = cpos/npos \n",
    "    #size obs test\n",
    "    n = y_valid.shape[0] \n",
    "    size = np.arange(start=1,stop=369,step=1) \n",
    "    #proportion\n",
    "    size = size / n \n",
    "    #plots\n",
    "    model = model\n",
    "    trace7 = go.Scatter(x = size,y = recall,\n",
    "                        line = dict(color = ('gold'),width = 2), fill='tozeroy') \n",
    "    \n",
    "    #Subplots\n",
    "    fig = tls.make_subplots(rows=4, cols=2, print_grid=False,\n",
    "                          specs=[[{}, {}], \n",
    "                                 [{}, {}],\n",
    "                                 [{'colspan': 2}, None],\n",
    "                                 [{'colspan': 2}, None]],\n",
    "                          subplot_titles=('Confusion Matrix',\n",
    "                                          'Metrics',\n",
    "                                          'ROC curve'+\" \"+ '('+ str(model_roc_auc)+')',\n",
    "                                          'Precision - Recall curve',\n",
    "                                          'Cumulative gains curve',\n",
    "                                          'Feature importance'\n",
    "                                          ))\n",
    "    \n",
    "    fig.append_trace(trace1,1,1)\n",
    "    fig.append_trace(trace2,1,2)\n",
    "    fig.append_trace(trace3,2,1)\n",
    "    fig.append_trace(trace4,2,1)\n",
    "    fig.append_trace(trace5,2,2)\n",
    "    fig.append_trace(trace6,4,1)\n",
    "    fig.append_trace(trace7,3,1)\n",
    "    \n",
    "    fig['layout'].update(showlegend = False, title = '<b>Model performance report</b><br>'+str(model),\n",
    "                         autosize = False, \n",
    "                         height = 1500,\n",
    "                         width = 800,\n",
    "                         plot_bgcolor = 'black',\n",
    "                         paper_bgcolor = 'black',\n",
    "                         margin = dict(b = 195), \n",
    "                         font=dict(color='white')\n",
    "                        )\n",
    "    \n",
    "    fig[\"layout\"][\"xaxis1\"].update(dict(color = 'white'),showgrid=False)\n",
    "    fig[\"layout\"][\"yaxis1\"].update(dict(color = 'white'),showgrid=False)\n",
    "    fig[\"layout\"][\"xaxis2\"].update((dict(range=[0, 1], color = 'white')),showgrid=False)\n",
    "    fig[\"layout\"][\"yaxis2\"].update(dict(color = 'white'),showgrid=False)\n",
    "    fig[\"layout\"][\"xaxis3\"].update(dict(title = \"false positive rate\"),showgrid=False)\n",
    "    fig[\"layout\"][\"yaxis3\"].update(dict(title = \"true positive rate\"),color = 'white',showgrid=False)\n",
    "    fig[\"layout\"][\"xaxis4\"].update(dict(title = \"recall\"), range = [0,1.05],color = 'white',showgrid=False)\n",
    "    fig[\"layout\"][\"yaxis4\"].update(dict(title = \"precision\"), range = [0,1.05],color = 'white',showgrid=False)\n",
    "    fig[\"layout\"][\"xaxis5\"].update(dict(title = \"Percentage contacted\"),color = 'white',showgrid=False)\n",
    "    fig[\"layout\"][\"yaxis5\"].update(dict(title = \"Percentage positive targeted\"),color = 'white',showgrid=False)\n",
    "    fig[\"layout\"][\"xaxis6\"].update(dict(color = 'white'),showgrid=False)\n",
    "    fig[\"layout\"][\"yaxis6\"].update(dict(color = 'white'),showgrid=False)\n",
    "    for i in fig['layout']['annotations']:\n",
    "        i['font'] = titlefont=dict(color='white', size = 14)\n",
    "    py.iplot(fig)"
   ]
  },
  {
   "cell_type": "markdown",
   "metadata": {
    "_uuid": "b094f850e5f582e08090a5c7744422cafc44af8c"
   },
   "source": [
    "## <a id='5.3'>5.3. Light GBM - 0.8547</a> "
   ]
  },
  {
   "cell_type": "code",
   "execution_count": null,
   "metadata": {
    "_uuid": "19822530e2b2c96ce96643036dfd1db4dd6e4621"
   },
   "outputs": [],
   "source": [
    "%%time\n",
    "lgbm_clf = lgbm.LGBMClassifier(**opt_parameters)\n",
    "\n",
    "lgbm_clf.fit(X_train, y_train)\n",
    "y_pred = lgbm_clf.predict(X_valid)\n",
    "y_score = lgbm_clf.predict_proba(X_valid)[:,1]\n",
    "\n",
    "model_performance('lgbm_clf')"
   ]
  },
  {
   "cell_type": "markdown",
   "metadata": {
    "_uuid": "c8681d51212e1ab5f74d7482b883757ed9681fd3"
   },
   "source": [
    "## <a id='5.4'>5.4. Light GBM - Cross Validation - 5 folds - 0.8496 (+/- 0.017)</a> "
   ]
  },
  {
   "cell_type": "code",
   "execution_count": null,
   "metadata": {
    "_kg_hide-input": true,
    "_uuid": "1720ee0c7c0c16ea3685ee97874bd32c38cca426"
   },
   "outputs": [],
   "source": [
    "scores = ['accuracy', 'precision', 'recall', 'f1', 'roc_auc']\n",
    "res = []\n",
    "for sc in scores:\n",
    "    scores = cross_val_score(lgbm_clf, X, y, cv = 5, scoring = sc)\n",
    "    #print(sc, scores)\n",
    "    res.append(scores)\n",
    "df = pd.DataFrame(res).T\n",
    "df.loc['mean'] = df.mean()\n",
    "df.loc['std'] = df.std()\n",
    "df= df.rename(columns={0: 'accuracy', 1:'precision', 2:'recall',3:'f1',4:'roc_auc'})\n",
    "\n",
    "trace = go.Table(\n",
    "    header=dict(values=['<b>Fold', '<b>Accuracy', '<b>Precision', '<b>Recall', '<b>F1 score', '<b>Roc auc'],\n",
    "                line = dict(color='#7D7F80'),\n",
    "                fill = dict(color='#a1c3d1'),\n",
    "                align = ['center'],\n",
    "                font = dict(size = 15)),\n",
    "    cells=dict(values=[('1','2','3','4','5','mean', 'std'),\n",
    "                       np.round(df['accuracy'],4),\n",
    "                       np.round(df['precision'],4),\n",
    "                       np.round(df['recall'],4),\n",
    "                       np.round(df['f1'],4),\n",
    "                       np.round(df['roc_auc'],4)],\n",
    "               line = dict(color='#7D7F80'),\n",
    "               fill = dict(color='#EDFAFF'),\n",
    "               align = ['center'], font = dict(size = 15)))\n",
    "\n",
    "layout = dict(width=800, height=400, title = '<b>Cross validation - 5 folds', font = dict(size = 15))\n",
    "fig = dict(data=[trace], layout=layout)\n",
    "py.iplot(fig, filename = 'styled_table')"
   ]
  },
  {
   "cell_type": "code",
   "execution_count": null,
   "metadata": {
    "_uuid": "c026f86e018f21aa43d8ca903aac1d7572aeae5c"
   },
   "outputs": [],
   "source": [
    "lgbm_clf = lgbm.LGBMClassifier(**opt_parameters)\n",
    "lgbm_clf.fit(X, y)\n",
    "y_pred = lgbm_clf.predict(X_test)"
   ]
  },
  {
   "cell_type": "markdown",
   "metadata": {
    "_uuid": "041e7283453f77f2038e44b3d91094f26f7603e4"
   },
   "source": [
    "## <a id='5.5'>5.5. Discrimination Threshold</a> "
   ]
  },
  {
   "cell_type": "code",
   "execution_count": null,
   "metadata": {
    "_uuid": "8f369b9300dff1777b6c4af52ea93abc9bd6521a"
   },
   "outputs": [],
   "source": [
    "from yellowbrick.classifier import DiscriminationThreshold\n",
    "visualizer = DiscriminationThreshold(lgbm_clf)\n",
    "\n",
    "visualizer.fit(X, y)  \n",
    "visualizer.poof()   "
   ]
  },
  {
   "cell_type": "markdown",
   "metadata": {
    "_uuid": "08078b91c9d7a49bdfe4cf5946751b32c42cef58"
   },
   "source": [
    "# <a id='6'>6. Submission - 0.82296</a> "
   ]
  },
  {
   "cell_type": "code",
   "execution_count": null,
   "metadata": {
    "_uuid": "1a828813d1fb390f0a942610807e1e96c90a61f4"
   },
   "outputs": [],
   "source": [
    "temp = pd.DataFrame(pd.read_csv(\"../input/test.csv\")['PassengerId'])\n",
    "temp['Survived'] = y_pred\n",
    "temp.to_csv(\"../working/submission.csv\", index = False)"
   ]
  },
  {
   "cell_type": "markdown",
   "metadata": {
    "_uuid": "ce2d101870b5fc66ba0898044d3bf93248f26cf2"
   },
   "source": [
    "**Thank you all ! Merci à tous ! :)**"
   ]
  }
 ],
 "metadata": {
  "kernelspec": {
   "display_name": "Python 2",
   "language": "python",
   "name": "python2"
  },
  "language_info": {
   "codemirror_mode": {
    "name": "ipython",
    "version": 2
   },
   "file_extension": ".py",
   "mimetype": "text/x-python",
   "name": "python",
   "nbconvert_exporter": "python",
   "pygments_lexer": "ipython2",
   "version": "2.7.16"
  }
 },
 "nbformat": 4,
 "nbformat_minor": 1
}
