{
 "cells": [
  {
   "cell_type": "code",
   "execution_count": null,
   "metadata": {
    "collapsed": true
   },
   "outputs": [],
   "source": [
    "import math\n",
    "from anastruct.fem.system import SystemElements\n",
    "ss = SystemElements(EA=4000)\n",
    "ss.add_truss_element(location=[[0, 0], [6, 0]])\n",
    "ss.add_truss_element(location=[[6, 0], [3, 5.196]])\n",
    "ss.add_truss_element(location=[[3, 5.196], [0, 0]])\n",
    "ss.add_support_hinged(node_id=1)\n",
    "ss.add_support_roll(node_id=2,direction=2)\n",
    "ss.point_load(Fz=-20, node_id=3)\n",
    "ss.solve()\n",
    "ss.show_reaction_force()\n"
   ]
  }
 ],
 "metadata": {
  "kernelspec": {
   "display_name": "Python 3",
   "language": "python",
   "name": "python3"
  },
  "language_info": {
   "codemirror_mode": {
    "name": "ipython",
    "version": 3
   },
   "file_extension": ".py",
   "mimetype": "text/x-python",
   "name": "python",
   "nbconvert_exporter": "python",
   "pygments_lexer": "ipython3",
   "version": "3.6.3"
  }
 },
 "nbformat": 4,
 "nbformat_minor": 2
}
